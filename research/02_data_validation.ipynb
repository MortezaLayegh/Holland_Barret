{
 "cells": [
  {
   "cell_type": "code",
   "execution_count": 1,
   "metadata": {},
   "outputs": [],
   "source": [
    "import os"
   ]
  },
  {
   "cell_type": "code",
   "execution_count": 2,
   "metadata": {},
   "outputs": [
    {
     "data": {
      "text/plain": [
       "'c:\\\\Users\\\\layeg\\\\Desktop\\\\GitHub\\\\Holland_Barret\\\\research'"
      ]
     },
     "execution_count": 2,
     "metadata": {},
     "output_type": "execute_result"
    }
   ],
   "source": [
    "%pwd"
   ]
  },
  {
   "cell_type": "code",
   "execution_count": 3,
   "metadata": {},
   "outputs": [],
   "source": [
    "os.chdir(\"../\")"
   ]
  },
  {
   "cell_type": "code",
   "execution_count": 4,
   "metadata": {},
   "outputs": [
    {
     "data": {
      "text/plain": [
       "'c:\\\\Users\\\\layeg\\\\Desktop\\\\GitHub\\\\Holland_Barret'"
      ]
     },
     "execution_count": 4,
     "metadata": {},
     "output_type": "execute_result"
    }
   ],
   "source": [
    "%pwd"
   ]
  },
  {
   "cell_type": "code",
   "execution_count": 5,
   "metadata": {},
   "outputs": [],
   "source": [
    "import pandas as pd"
   ]
  },
  {
   "cell_type": "code",
   "execution_count": 6,
   "metadata": {},
   "outputs": [
    {
     "data": {
      "text/html": [
       "<div>\n",
       "<style scoped>\n",
       "    .dataframe tbody tr th:only-of-type {\n",
       "        vertical-align: middle;\n",
       "    }\n",
       "\n",
       "    .dataframe tbody tr th {\n",
       "        vertical-align: top;\n",
       "    }\n",
       "\n",
       "    .dataframe thead th {\n",
       "        text-align: right;\n",
       "    }\n",
       "</style>\n",
       "<table border=\"1\" class=\"dataframe\">\n",
       "  <thead>\n",
       "    <tr style=\"text-align: right;\">\n",
       "      <th></th>\n",
       "      <th>Transaction ID</th>\n",
       "      <th>Customer ID</th>\n",
       "      <th>Date</th>\n",
       "      <th>Total Items</th>\n",
       "      <th>Unique Items</th>\n",
       "      <th>Total Sales</th>\n",
       "      <th>Discounted Sales</th>\n",
       "      <th>Browsing Duration (minutes)</th>\n",
       "      <th>Number of Clicks</th>\n",
       "      <th>Incomplete Transaction</th>\n",
       "      <th>Age</th>\n",
       "      <th>Gender</th>\n",
       "      <th>Region</th>\n",
       "      <th>Marital Status</th>\n",
       "      <th>Education</th>\n",
       "      <th>Household Income</th>\n",
       "      <th>Loyalty Card</th>\n",
       "      <th>Loyalty Points</th>\n",
       "    </tr>\n",
       "  </thead>\n",
       "  <tbody>\n",
       "    <tr>\n",
       "      <th>0</th>\n",
       "      <td>TRID_21210</td>\n",
       "      <td>CID_12160</td>\n",
       "      <td>2020-03-22</td>\n",
       "      <td>8</td>\n",
       "      <td>3</td>\n",
       "      <td>22.88</td>\n",
       "      <td>7.54</td>\n",
       "      <td>3.11</td>\n",
       "      <td>7</td>\n",
       "      <td>0</td>\n",
       "      <td>19</td>\n",
       "      <td>Female</td>\n",
       "      <td>Rural</td>\n",
       "      <td>Divorced</td>\n",
       "      <td>High School</td>\n",
       "      <td>21000.0</td>\n",
       "      <td>0</td>\n",
       "      <td>NaN</td>\n",
       "    </tr>\n",
       "    <tr>\n",
       "      <th>1</th>\n",
       "      <td>TRID_83725</td>\n",
       "      <td>CID_11410</td>\n",
       "      <td>2020-01-08</td>\n",
       "      <td>4</td>\n",
       "      <td>2</td>\n",
       "      <td>22.80</td>\n",
       "      <td>4.79</td>\n",
       "      <td>7.51</td>\n",
       "      <td>15</td>\n",
       "      <td>0</td>\n",
       "      <td>41</td>\n",
       "      <td>Female</td>\n",
       "      <td>Urban</td>\n",
       "      <td>Divorced</td>\n",
       "      <td>High School</td>\n",
       "      <td>20000.0</td>\n",
       "      <td>1</td>\n",
       "      <td>5.0</td>\n",
       "    </tr>\n",
       "    <tr>\n",
       "      <th>2</th>\n",
       "      <td>TRID_10532</td>\n",
       "      <td>CID_12776</td>\n",
       "      <td>2020-02-19</td>\n",
       "      <td>5</td>\n",
       "      <td>3</td>\n",
       "      <td>14.80</td>\n",
       "      <td>7.96</td>\n",
       "      <td>8.98</td>\n",
       "      <td>16</td>\n",
       "      <td>0</td>\n",
       "      <td>42</td>\n",
       "      <td>Female</td>\n",
       "      <td>Urban</td>\n",
       "      <td>Married</td>\n",
       "      <td>Graduate</td>\n",
       "      <td>9000.0</td>\n",
       "      <td>0</td>\n",
       "      <td>NaN</td>\n",
       "    </tr>\n",
       "    <tr>\n",
       "      <th>3</th>\n",
       "      <td>TRID_88885</td>\n",
       "      <td>CID_9162</td>\n",
       "      <td>2020-02-17</td>\n",
       "      <td>5</td>\n",
       "      <td>3</td>\n",
       "      <td>13.04</td>\n",
       "      <td>6.98</td>\n",
       "      <td>5.61</td>\n",
       "      <td>11</td>\n",
       "      <td>0</td>\n",
       "      <td>77</td>\n",
       "      <td>Male</td>\n",
       "      <td>Urban</td>\n",
       "      <td>Divorced</td>\n",
       "      <td>High School</td>\n",
       "      <td>84500.0</td>\n",
       "      <td>1</td>\n",
       "      <td>21.0</td>\n",
       "    </tr>\n",
       "    <tr>\n",
       "      <th>4</th>\n",
       "      <td>TRID_68790</td>\n",
       "      <td>CID_14594</td>\n",
       "      <td>2020-01-06</td>\n",
       "      <td>14</td>\n",
       "      <td>4</td>\n",
       "      <td>9.60</td>\n",
       "      <td>9.25</td>\n",
       "      <td>6.62</td>\n",
       "      <td>14</td>\n",
       "      <td>1</td>\n",
       "      <td>30</td>\n",
       "      <td>Male</td>\n",
       "      <td>Rural</td>\n",
       "      <td>Single</td>\n",
       "      <td>Graduate</td>\n",
       "      <td>53500.0</td>\n",
       "      <td>0</td>\n",
       "      <td>NaN</td>\n",
       "    </tr>\n",
       "  </tbody>\n",
       "</table>\n",
       "</div>"
      ],
      "text/plain": [
       "  Transaction ID Customer ID        Date  Total Items  Unique Items  \\\n",
       "0     TRID_21210   CID_12160  2020-03-22            8             3   \n",
       "1     TRID_83725   CID_11410  2020-01-08            4             2   \n",
       "2     TRID_10532   CID_12776  2020-02-19            5             3   \n",
       "3     TRID_88885    CID_9162  2020-02-17            5             3   \n",
       "4     TRID_68790   CID_14594  2020-01-06           14             4   \n",
       "\n",
       "   Total Sales  Discounted Sales  Browsing Duration (minutes)  \\\n",
       "0        22.88              7.54                         3.11   \n",
       "1        22.80              4.79                         7.51   \n",
       "2        14.80              7.96                         8.98   \n",
       "3        13.04              6.98                         5.61   \n",
       "4         9.60              9.25                         6.62   \n",
       "\n",
       "   Number of Clicks  Incomplete Transaction  Age  Gender Region  \\\n",
       "0                 7                       0   19  Female  Rural   \n",
       "1                15                       0   41  Female  Urban   \n",
       "2                16                       0   42  Female  Urban   \n",
       "3                11                       0   77    Male  Urban   \n",
       "4                14                       1   30    Male  Rural   \n",
       "\n",
       "  Marital Status    Education  Household Income  Loyalty Card  Loyalty Points  \n",
       "0       Divorced  High School           21000.0             0             NaN  \n",
       "1       Divorced  High School           20000.0             1             5.0  \n",
       "2        Married     Graduate            9000.0             0             NaN  \n",
       "3       Divorced  High School           84500.0             1            21.0  \n",
       "4         Single     Graduate           53500.0             0             NaN  "
      ]
     },
     "execution_count": 6,
     "metadata": {},
     "output_type": "execute_result"
    }
   ],
   "source": [
    "data = pd.read_csv(r\"artifacts\\data_ingestion\\merged_data.csv\")\n",
    "data.head()"
   ]
  },
  {
   "cell_type": "code",
   "execution_count": 7,
   "metadata": {},
   "outputs": [
    {
     "name": "stdout",
     "output_type": "stream",
     "text": [
      "<class 'pandas.core.frame.DataFrame'>\n",
      "RangeIndex: 5000 entries, 0 to 4999\n",
      "Data columns (total 18 columns):\n",
      " #   Column                       Non-Null Count  Dtype  \n",
      "---  ------                       --------------  -----  \n",
      " 0   Transaction ID               5000 non-null   object \n",
      " 1   Customer ID                  5000 non-null   object \n",
      " 2   Date                         5000 non-null   object \n",
      " 3   Total Items                  5000 non-null   int64  \n",
      " 4   Unique Items                 5000 non-null   int64  \n",
      " 5   Total Sales                  5000 non-null   float64\n",
      " 6   Discounted Sales             5000 non-null   float64\n",
      " 7   Browsing Duration (minutes)  5000 non-null   float64\n",
      " 8   Number of Clicks             5000 non-null   int64  \n",
      " 9   Incomplete Transaction       5000 non-null   int64  \n",
      " 10  Age                          5000 non-null   int64  \n",
      " 11  Gender                       5000 non-null   object \n",
      " 12  Region                       5000 non-null   object \n",
      " 13  Marital Status               5000 non-null   object \n",
      " 14  Education                    4593 non-null   object \n",
      " 15  Household Income             5000 non-null   float64\n",
      " 16  Loyalty Card                 5000 non-null   int64  \n",
      " 17  Loyalty Points               2435 non-null   float64\n",
      "dtypes: float64(5), int64(6), object(7)\n",
      "memory usage: 703.2+ KB\n"
     ]
    }
   ],
   "source": [
    "data.info()"
   ]
  },
  {
   "cell_type": "code",
   "execution_count": 8,
   "metadata": {},
   "outputs": [
    {
     "data": {
      "text/plain": [
       "Transaction ID                    0\n",
       "Customer ID                       0\n",
       "Date                              0\n",
       "Total Items                       0\n",
       "Unique Items                      0\n",
       "Total Sales                       0\n",
       "Discounted Sales                  0\n",
       "Browsing Duration (minutes)       0\n",
       "Number of Clicks                  0\n",
       "Incomplete Transaction            0\n",
       "Age                               0\n",
       "Gender                            0\n",
       "Region                            0\n",
       "Marital Status                    0\n",
       "Education                       407\n",
       "Household Income                  0\n",
       "Loyalty Card                      0\n",
       "Loyalty Points                 2565\n",
       "dtype: int64"
      ]
     },
     "execution_count": 8,
     "metadata": {},
     "output_type": "execute_result"
    }
   ],
   "source": [
    "data.isnull().sum()"
   ]
  },
  {
   "cell_type": "code",
   "execution_count": 9,
   "metadata": {},
   "outputs": [
    {
     "data": {
      "text/plain": [
       "(5000, 18)"
      ]
     },
     "execution_count": 9,
     "metadata": {},
     "output_type": "execute_result"
    }
   ],
   "source": [
    "data.shape"
   ]
  },
  {
   "cell_type": "code",
   "execution_count": 10,
   "metadata": {},
   "outputs": [
    {
     "data": {
      "text/plain": [
       "Index(['Transaction ID', 'Customer ID', 'Date', 'Total Items', 'Unique Items',\n",
       "       'Total Sales', 'Discounted Sales', 'Browsing Duration (minutes)',\n",
       "       'Number of Clicks', 'Incomplete Transaction', 'Age', 'Gender', 'Region',\n",
       "       'Marital Status', 'Education', 'Household Income', 'Loyalty Card',\n",
       "       'Loyalty Points'],\n",
       "      dtype='object')"
      ]
     },
     "execution_count": 10,
     "metadata": {},
     "output_type": "execute_result"
    }
   ],
   "source": [
    "data.columns"
   ]
  },
  {
   "cell_type": "code",
   "execution_count": 11,
   "metadata": {},
   "outputs": [],
   "source": [
    "from dataclasses import dataclass\n",
    "from pathlib import Path\n",
    "\n",
    "\n",
    "@dataclass(frozen=True)\n",
    "class DataValidationConfig:\n",
    "    root_dir: Path\n",
    "    STATUS_FILE: str\n",
    "    unzip_data_dir: Path\n",
    "    all_schema: dict"
   ]
  },
  {
   "cell_type": "code",
   "execution_count": 12,
   "metadata": {},
   "outputs": [],
   "source": [
    "from mlProject.constants import *\n",
    "from mlProject.utils.common import read_yaml, create_directories"
   ]
  },
  {
   "cell_type": "code",
   "execution_count": 13,
   "metadata": {},
   "outputs": [],
   "source": [
    "class ConfigurationManager:\n",
    "    \"\"\"\n",
    "    Class for managing configuration files and retrieving data validation configuration.\n",
    "\n",
    "    Attributes:\n",
    "    config_filepath (str): The file path of the main configuration file.\n",
    "    params_filepath (str): The file path of the parameters file.\n",
    "    schema_filepath (str): The file path of the schema file.\n",
    "    \"\"\"\n",
    "\n",
    "    def __init__(\n",
    "        self,\n",
    "        config_filepath=CONFIG_FILE_PATH,\n",
    "        params_filepath=PARAMS_FILE_PATH,\n",
    "        schema_filepath=SCHEMA_FILE_PATH\n",
    "    ):\n",
    "        \"\"\"\n",
    "        Initialize ConfigurationManager with file paths and read configuration files.\n",
    "\n",
    "        Args:\n",
    "        config_filepath (str): The file path of the main configuration file.\n",
    "        params_filepath (str): The file path of the parameters file.\n",
    "        schema_filepath (str): The file path of the schema file.\n",
    "        \"\"\"\n",
    "        self.config = read_yaml(config_filepath)\n",
    "        self.params = read_yaml(params_filepath)\n",
    "        self.schema = read_yaml(schema_filepath)\n",
    "\n",
    "        create_directories([self.config.artifacts_root])\n",
    "\n",
    "    def get_data_validation_config(self) -> DataValidationConfig:\n",
    "        \"\"\"\n",
    "        Retrieve the data validation configuration from the main configuration.\n",
    "\n",
    "        Returns:\n",
    "        DataValidationConfig: The data validation configuration object.\n",
    "        \"\"\"\n",
    "        config = self.config.data_validation\n",
    "        schema = self.schema.COLUMNS\n",
    "\n",
    "        create_directories([config.root_dir])\n",
    "\n",
    "        data_validation_config = DataValidationConfig(\n",
    "            root_dir=config.root_dir,\n",
    "            STATUS_FILE=config.STATUS_FILE,\n",
    "            unzip_data_dir=config.unzip_data_dir,\n",
    "            all_schema=schema,\n",
    "        )\n",
    "\n",
    "        return data_validation_config\n"
   ]
  },
  {
   "cell_type": "code",
   "execution_count": 14,
   "metadata": {},
   "outputs": [],
   "source": [
    "import os\n",
    "from mlProject import logger"
   ]
  },
  {
   "cell_type": "code",
   "execution_count": 15,
   "metadata": {},
   "outputs": [],
   "source": [
    "class DataValidation:\n",
    "    \"\"\"\n",
    "    Class for data validation tasks.\n",
    "\n",
    "    Attributes:\n",
    "    config (DataValidationConfig): The configuration for data validation.\n",
    "    \"\"\"\n",
    "\n",
    "    def __init__(self, config: DataValidationConfig):\n",
    "        \"\"\"\n",
    "        Initialize DataValidation with a configuration object.\n",
    "\n",
    "        Args:\n",
    "        config (DataValidationConfig): The configuration for data validation.\n",
    "        \"\"\"\n",
    "        self.config = config\n",
    "\n",
    "    def validate_all_columns(self) -> bool:\n",
    "        \"\"\"\n",
    "        Validate all columns in the dataset against the specified schema.\n",
    "\n",
    "        Returns:\n",
    "        bool: The validation status.\n",
    "        \"\"\"\n",
    "        try:\n",
    "            validation_status = None\n",
    "\n",
    "            data = pd.read_csv(self.config.unzip_data_dir)\n",
    "            all_cols = list(data.columns)\n",
    "\n",
    "            all_schema = self.config.all_schema.keys()\n",
    "\n",
    "            for col in all_cols:\n",
    "                if col not in all_schema:\n",
    "                    validation_status = False\n",
    "                    with open(self.config.STATUS_FILE, 'w') as f:\n",
    "                        f.write(f\"Validation status: {validation_status}\")\n",
    "                else:\n",
    "                    validation_status = True\n",
    "                    with open(self.config.STATUS_FILE, 'w') as f:\n",
    "                        f.write(f\"Validation status: {validation_status}\")\n",
    "\n",
    "            return validation_status\n",
    "\n",
    "        except Exception as e:\n",
    "            raise e\n"
   ]
  },
  {
   "cell_type": "code",
   "execution_count": 16,
   "metadata": {},
   "outputs": [
    {
     "name": "stdout",
     "output_type": "stream",
     "text": [
      "[2024-02-28 11:16:51,214: INFO: common: YAML file loaded successfully from: config\\config.yaml]\n",
      "[2024-02-28 11:16:51,217: INFO: common: YAML file loaded successfully from: params.yaml]\n",
      "[2024-02-28 11:16:51,219: INFO: common: YAML file loaded successfully from: schema.yaml]\n",
      "[2024-02-28 11:16:51,220: INFO: common: Created directory at: artifacts]\n",
      "[2024-02-28 11:16:51,222: INFO: common: Created directory at: artifacts/data_validation]\n"
     ]
    }
   ],
   "source": [
    "try:\n",
    "    # Initialize ConfigurationManager and retrieve data validation configuration\n",
    "    config = ConfigurationManager()\n",
    "    data_validation_config = config.get_data_validation_config()\n",
    "\n",
    "    # Initialize DataValidation with the retrieved configuration\n",
    "    data_validation = DataValidation(config=data_validation_config)\n",
    "\n",
    "    # Validate all columns\n",
    "    data_validation.validate_all_columns()\n",
    "\n",
    "except Exception as e:\n",
    "    # Raise the caught exception\n",
    "    raise e\n"
   ]
  },
  {
   "cell_type": "code",
   "execution_count": null,
   "metadata": {},
   "outputs": [],
   "source": []
  },
  {
   "cell_type": "code",
   "execution_count": null,
   "metadata": {},
   "outputs": [],
   "source": []
  }
 ],
 "metadata": {
  "kernelspec": {
   "display_name": "mlproj",
   "language": "python",
   "name": "python3"
  },
  "language_info": {
   "codemirror_mode": {
    "name": "ipython",
    "version": 3
   },
   "file_extension": ".py",
   "mimetype": "text/x-python",
   "name": "python",
   "nbconvert_exporter": "python",
   "pygments_lexer": "ipython3",
   "version": "3.8.18"
  },
  "orig_nbformat": 4
 },
 "nbformat": 4,
 "nbformat_minor": 2
}
