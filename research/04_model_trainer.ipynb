{
 "cells": [
  {
   "cell_type": "code",
   "execution_count": 1,
   "metadata": {},
   "outputs": [],
   "source": [
    "import os"
   ]
  },
  {
   "cell_type": "code",
   "execution_count": 2,
   "metadata": {},
   "outputs": [
    {
     "data": {
      "text/plain": [
       "'c:\\\\Users\\\\layeg\\\\Desktop\\\\GitHub\\\\Holland_Barret\\\\research'"
      ]
     },
     "execution_count": 2,
     "metadata": {},
     "output_type": "execute_result"
    }
   ],
   "source": [
    "%pwd"
   ]
  },
  {
   "cell_type": "code",
   "execution_count": 3,
   "metadata": {},
   "outputs": [],
   "source": [
    "os.chdir(\"../\")"
   ]
  },
  {
   "cell_type": "code",
   "execution_count": 4,
   "metadata": {},
   "outputs": [
    {
     "data": {
      "text/plain": [
       "'c:\\\\Users\\\\layeg\\\\Desktop\\\\GitHub\\\\Holland_Barret'"
      ]
     },
     "execution_count": 4,
     "metadata": {},
     "output_type": "execute_result"
    }
   ],
   "source": [
    "%pwd"
   ]
  },
  {
   "cell_type": "code",
   "execution_count": 5,
   "metadata": {},
   "outputs": [],
   "source": [
    "from dataclasses import dataclass\n",
    "from pathlib import Path\n",
    "\n",
    "@dataclass(frozen=True)\n",
    "class ModelTrainerConfig:\n",
    "    \"\"\"\n",
    "    Configuration class for model training.\n",
    "\n",
    "    Attributes:\n",
    "    root_dir (Path): The root directory where model artifacts will be stored.\n",
    "    train_data_path (Path): The path to the training data.\n",
    "    test_data_path (Path): The path to the testing data.\n",
    "    model_name (str): The name of the model to be trained.\n",
    "    n_estimators (int): The number of trees in the forest.\n",
    "    max_depth (int): The maximum depth of the tree.\n",
    "    learning_rate (int): The learning rate of the model.\n",
    "    random_state (int): The random state for reproducibility.\n",
    "    min_samples_split (int): The minimum number of samples required to split an internal node.\n",
    "    subsample (int): The fraction of samples to be used for fitting the individual base learners.\n",
    "    min_samples_leaf (int): The minimum number of samples required to be at a leaf node.\n",
    "    target_column (str): The target column name.\n",
    "    \"\"\"\n",
    "    root_dir: Path\n",
    "    train_data_path: Path\n",
    "    test_data_path: Path\n",
    "    model_name: str\n",
    "    n_estimators: int\n",
    "    max_depth: int\n",
    "    learning_rate: int\n",
    "    random_state: int\n",
    "    min_samples_split: int\n",
    "    subsample: int\n",
    "    min_samples_leaf: int\n",
    "    target_column: str\n"
   ]
  },
  {
   "cell_type": "code",
   "execution_count": 6,
   "metadata": {},
   "outputs": [],
   "source": [
    "from mlProject.constants import *\n",
    "from mlProject.utils.common import read_yaml, create_directories"
   ]
  },
  {
   "cell_type": "code",
   "execution_count": 7,
   "metadata": {},
   "outputs": [],
   "source": [
    "class ConfigurationManager:\n",
    "    \"\"\"\n",
    "    Class for managing configuration files and retrieving model trainer configuration.\n",
    "\n",
    "    Attributes:\n",
    "    config_filepath (str): The file path of the main configuration file.\n",
    "    params_filepath (str): The file path of the parameters file.\n",
    "    schema_filepath (str): The file path of the schema file.\n",
    "    \"\"\"\n",
    "\n",
    "    def __init__(\n",
    "        self,\n",
    "        config_filepath=CONFIG_FILE_PATH,\n",
    "        params_filepath=PARAMS_FILE_PATH,\n",
    "        schema_filepath=SCHEMA_FILE_PATH\n",
    "    ):\n",
    "        \"\"\"\n",
    "        Initialize ConfigurationManager with file paths and read configuration files.\n",
    "\n",
    "        Args:\n",
    "        config_filepath (str): The file path of the main configuration file.\n",
    "        params_filepath (str): The file path of the parameters file.\n",
    "        schema_filepath (str): The file path of the schema file.\n",
    "        \"\"\"\n",
    "        self.config = read_yaml(config_filepath)\n",
    "        self.params = read_yaml(params_filepath)\n",
    "        self.schema = read_yaml(schema_filepath)\n",
    "\n",
    "        create_directories([self.config.artifacts_root])\n",
    "\n",
    "    def get_model_trainer_config(self) -> ModelTrainerConfig:\n",
    "        \"\"\"\n",
    "        Retrieve the model trainer configuration from the main configuration.\n",
    "\n",
    "        Returns:\n",
    "        ModelTrainerConfig: The model trainer configuration object.\n",
    "        \"\"\"\n",
    "        config = self.config.model_trainer\n",
    "        params = self.params.GBMClassifier\n",
    "        schema = self.schema.TARGET_COLUMN\n",
    "\n",
    "        create_directories([config.root_dir])\n",
    "\n",
    "        model_trainer_config = ModelTrainerConfig(\n",
    "            root_dir=config.root_dir,\n",
    "            train_data_path=config.train_data_path,\n",
    "            test_data_path=config.test_data_path,\n",
    "            model_name=config.model_name,\n",
    "\n",
    "            n_estimators=params.n_estimators,\n",
    "            max_depth=params.max_depth,\n",
    "            learning_rate=params.learning_rate,\n",
    "            random_state=params.random_state,\n",
    "            subsample=params.subsample,\n",
    "            min_samples_split=params.min_samples_split,\n",
    "            min_samples_leaf=params.min_samples_leaf,\n",
    "\n",
    "            target_column=schema.name\n",
    "        )\n",
    "\n",
    "        return model_trainer_config\n"
   ]
  },
  {
   "cell_type": "code",
   "execution_count": 8,
   "metadata": {},
   "outputs": [],
   "source": [
    "import pandas as pd\n",
    "import os\n",
    "from mlProject import logger\n",
    "from sklearn.ensemble import  GradientBoostingClassifier\n",
    "\n",
    "import joblib\n",
    "from mlProject.utils.common import read_yaml, create_directories, evaluate_clf\n",
    "\n",
    "#from mlProject.utils.common import evaluate_clf\n",
    "\n",
    "from sklearn.compose import ColumnTransformer\n",
    "from sklearn.impute import SimpleImputer\n",
    "from sklearn.pipeline import Pipeline\n",
    "from sklearn.preprocessing import OneHotEncoder, StandardScaler\n",
    "\n",
    "from imblearn.pipeline import  make_pipeline\n",
    "from imblearn.over_sampling import RandomOverSampler\n",
    "from imblearn.under_sampling import RandomUnderSampler\n",
    "from sklearn.model_selection import StratifiedKFold\n"
   ]
  },
  {
   "cell_type": "code",
   "execution_count": 9,
   "metadata": {},
   "outputs": [],
   "source": [
    "class ModelTrainer:\n",
    "    \"\"\"\n",
    "    Class for training machine learning models.\n",
    "\n",
    "    Attributes:\n",
    "    config (ModelTrainerConfig): The configuration for model training.\n",
    "    \"\"\"\n",
    "\n",
    "    def __init__(self, config: ModelTrainerConfig):\n",
    "        \"\"\"\n",
    "        Initialize ModelTrainer with a configuration object.\n",
    "\n",
    "        Args:\n",
    "        config (ModelTrainerConfig): The configuration for model training.\n",
    "        \"\"\"\n",
    "        self.config = config\n",
    "\n",
    "    def initiate_model_trainer(self):\n",
    "        \"\"\"\n",
    "        Initiate model training using the specified configuration.\n",
    "        \"\"\"\n",
    "        logger.info(\"Initiating model training\")\n",
    "\n",
    "        train_data = pd.read_csv(self.config.train_data_path)\n",
    "        test_data = pd.read_csv(self.config.test_data_path)\n",
    "\n",
    "        X_train = train_data.iloc[:, :-1]\n",
    "        X_test = test_data.iloc[:, :-1]\n",
    "        y_train = train_data.iloc[:, -1]\n",
    "        y_test = test_data.iloc[:, -1]\n",
    "\n",
    "        GBM = GradientBoostingClassifier(\n",
    "            n_estimators=self.config.n_estimators,\n",
    "            max_depth=self.config.max_depth,\n",
    "            learning_rate=self.config.learning_rate,\n",
    "            random_state=self.config.random_state,\n",
    "            subsample=self.config.subsample,\n",
    "            min_samples_split=self.config.min_samples_split,\n",
    "            min_samples_leaf=self.config.min_samples_leaf\n",
    "        )\n",
    "\n",
    "        GBM.fit(X_train, y_train)\n",
    "\n",
    "        joblib.dump(GBM, os.path.join(self.config.root_dir, self.config.model_name))\n"
   ]
  },
  {
   "cell_type": "code",
   "execution_count": 10,
   "metadata": {},
   "outputs": [
    {
     "name": "stdout",
     "output_type": "stream",
     "text": [
      "[2024-02-28 11:24:04,105: INFO: common: YAML file loaded successfully from: config\\config.yaml]\n",
      "[2024-02-28 11:24:04,108: INFO: common: YAML file loaded successfully from: params.yaml]\n",
      "[2024-02-28 11:24:04,111: INFO: common: YAML file loaded successfully from: schema.yaml]\n",
      "[2024-02-28 11:24:04,112: INFO: common: Created directory at: artifacts]\n",
      "[2024-02-28 11:24:04,113: INFO: common: Created directory at: artifacts/model_trainer]\n",
      "[2024-02-28 11:24:04,114: INFO: 2247585756: Initiating model training]\n"
     ]
    }
   ],
   "source": [
    "try:\n",
    "    # Initialize ConfigurationManager and retrieve model trainer configuration\n",
    "    config = ConfigurationManager()\n",
    "    model_trainer_config = config.get_model_trainer_config()\n",
    "\n",
    "    # Initialize ModelTrainer with the retrieved configuration\n",
    "    model_trainer = ModelTrainer(config=model_trainer_config)\n",
    "\n",
    "    # Initiate model training\n",
    "    model_trainer.initiate_model_trainer()\n",
    "\n",
    "except Exception as e:\n",
    "    # Raise the caught exception\n",
    "    raise e\n"
   ]
  },
  {
   "cell_type": "code",
   "execution_count": null,
   "metadata": {},
   "outputs": [],
   "source": []
  },
  {
   "cell_type": "code",
   "execution_count": null,
   "metadata": {},
   "outputs": [],
   "source": []
  }
 ],
 "metadata": {
  "kernelspec": {
   "display_name": "mlproj",
   "language": "python",
   "name": "python3"
  },
  "language_info": {
   "codemirror_mode": {
    "name": "ipython",
    "version": 3
   },
   "file_extension": ".py",
   "mimetype": "text/x-python",
   "name": "python",
   "nbconvert_exporter": "python",
   "pygments_lexer": "ipython3",
   "version": "3.8.18"
  },
  "orig_nbformat": 4
 },
 "nbformat": 4,
 "nbformat_minor": 2
}
