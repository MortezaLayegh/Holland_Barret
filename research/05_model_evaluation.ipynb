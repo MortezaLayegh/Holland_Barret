{
 "cells": [
  {
   "cell_type": "code",
   "execution_count": 1,
   "metadata": {},
   "outputs": [],
   "source": [
    "import os"
   ]
  },
  {
   "cell_type": "code",
   "execution_count": 2,
   "metadata": {},
   "outputs": [
    {
     "data": {
      "text/plain": [
       "'c:\\\\Users\\\\layeg\\\\Desktop\\\\GitHub\\\\Holland_Barret\\\\research'"
      ]
     },
     "execution_count": 2,
     "metadata": {},
     "output_type": "execute_result"
    }
   ],
   "source": [
    "%pwd"
   ]
  },
  {
   "cell_type": "code",
   "execution_count": 3,
   "metadata": {},
   "outputs": [],
   "source": [
    "os.chdir(\"../\")"
   ]
  },
  {
   "cell_type": "code",
   "execution_count": 4,
   "metadata": {},
   "outputs": [
    {
     "data": {
      "text/plain": [
       "'c:\\\\Users\\\\layeg\\\\Desktop\\\\GitHub\\\\Holland_Barret'"
      ]
     },
     "execution_count": 4,
     "metadata": {},
     "output_type": "execute_result"
    }
   ],
   "source": [
    "%pwd"
   ]
  },
  {
   "cell_type": "code",
   "execution_count": 5,
   "metadata": {},
   "outputs": [],
   "source": [
    "# setting up environment variables for MLflow tracking\n",
    "os.environ[\"MLFLOW_TRACKING_URI\"]=\"https://dagshub.com/layeghmorteza/Holland_Barret.mlflow\"\n",
    "os.environ[\"MLFLOW_TRACKING_USERNAME\"]=\"layeghmorteza\"\n",
    "os.environ[\"MLFLOW_TRACKING_PASSWORD\"]=\"47ea8e5519d9fbb79e294bf09a018544a39aa22d\"\n"
   ]
  },
  {
   "cell_type": "code",
   "execution_count": 6,
   "metadata": {},
   "outputs": [],
   "source": [
    "from dataclasses import dataclass\n",
    "from pathlib import Path\n",
    "\n",
    "@dataclass(frozen=True)\n",
    "class ModelEvaluationConfig:\n",
    "    \"\"\"\n",
    "    Configuration class for model evaluation.\n",
    "\n",
    "    Attributes:\n",
    "    root_dir (Path): The root directory where evaluation artifacts will be stored.\n",
    "    test_data_path (Path): The path to the test data.\n",
    "    model_path (Path): The path to the trained model.\n",
    "    all_params (dict): All parameters used in the model.\n",
    "    metric_file_name (Path): The file name to store evaluation metrics.\n",
    "    target_column (str): The name of the target column.\n",
    "    mlflow_uri (str): The URI for MLflow tracking.\n",
    "    \"\"\"\n",
    "    root_dir: Path\n",
    "    test_data_path: Path\n",
    "    model_path: Path\n",
    "    all_params: dict\n",
    "    metric_file_name: Path\n",
    "    target_column: str\n",
    "    mlflow_uri: str\n"
   ]
  },
  {
   "cell_type": "code",
   "execution_count": 7,
   "metadata": {},
   "outputs": [],
   "source": [
    "from mlProject.constants import *\n",
    "from mlProject.utils.common import read_yaml, create_directories, save_json"
   ]
  },
  {
   "cell_type": "code",
   "execution_count": 8,
   "metadata": {},
   "outputs": [],
   "source": [
    "class ConfigurationManager:\n",
    "    \"\"\"\n",
    "    Class for managing configuration files and retrieving model evaluation configuration.\n",
    "\n",
    "    Attributes:\n",
    "    config_filepath (str): The file path of the main configuration file.\n",
    "    params_filepath (str): The file path of the parameters file.\n",
    "    schema_filepath (str): The file path of the schema file.\n",
    "    \"\"\"\n",
    "\n",
    "    def __init__(\n",
    "        self,\n",
    "        config_filepath=CONFIG_FILE_PATH,\n",
    "        params_filepath=PARAMS_FILE_PATH,\n",
    "        schema_filepath=SCHEMA_FILE_PATH\n",
    "    ):\n",
    "        \"\"\"\n",
    "        Initialize ConfigurationManager with file paths and read configuration files.\n",
    "\n",
    "        Args:\n",
    "        config_filepath (str): The file path of the main configuration file.\n",
    "        params_filepath (str): The file path of the parameters file.\n",
    "        schema_filepath (str): The file path of the schema file.\n",
    "        \"\"\"\n",
    "        self.config = read_yaml(config_filepath)\n",
    "        self.params = read_yaml(params_filepath)\n",
    "        self.schema = read_yaml(schema_filepath)\n",
    "\n",
    "        create_directories([self.config.artifacts_root])\n",
    "\n",
    "    def get_model_evaluation_config(self) -> ModelEvaluationConfig:\n",
    "        \"\"\"\n",
    "        Retrieve the model evaluation configuration from the main configuration.\n",
    "\n",
    "        Returns:\n",
    "        ModelEvaluationConfig: The model evaluation configuration object.\n",
    "        \"\"\"\n",
    "        config = self.config.model_evaluation\n",
    "        params = self.params.GBMClassifier\n",
    "        schema = self.schema.TARGET_COLUMN\n",
    "\n",
    "        create_directories([config.root_dir])\n",
    "\n",
    "        model_evaluation_config = ModelEvaluationConfig(\n",
    "            root_dir=config.root_dir,\n",
    "            test_data_path=config.test_data_path,\n",
    "            model_path=config.model_path,\n",
    "            all_params=params,\n",
    "            metric_file_name=config.metric_file_name,\n",
    "            target_column=schema.name,\n",
    "            mlflow_uri=\"https://dagshub.com/layeghmorteza/Holland_Barret.mlflow\"\n",
    "        )\n",
    "\n",
    "        return model_evaluation_config\n",
    "\n"
   ]
  },
  {
   "cell_type": "code",
   "execution_count": 9,
   "metadata": {},
   "outputs": [],
   "source": [
    "import os\n",
    "import pandas as pd\n",
    "#from sklearn.metrics import mean_squared_error, mean_absolute_error, r2_score\n",
    "from urllib.parse import urlparse\n",
    "import mlflow\n",
    "import mlflow.sklearn\n",
    "import numpy as np\n",
    "import joblib\n",
    "from sklearn.metrics import accuracy_score, precision_score, recall_score, f1_score, roc_auc_score\n"
   ]
  },
  {
   "cell_type": "code",
   "execution_count": 10,
   "metadata": {},
   "outputs": [],
   "source": [
    "class ModelEvaluation:\n",
    "    \"\"\"\n",
    "    Class for evaluating machine learning models.\n",
    "\n",
    "    Attributes:\n",
    "    config (ModelEvaluationConfig): The configuration for model evaluation.\n",
    "    \"\"\"\n",
    "\n",
    "    def __init__(self, config: ModelEvaluationConfig):\n",
    "        \"\"\"\n",
    "        Initialize ModelEvaluation with a configuration object.\n",
    "\n",
    "        Args:\n",
    "        config (ModelEvaluationConfig): The configuration for model evaluation.\n",
    "        \"\"\"\n",
    "        self.config = config\n",
    "        \n",
    "    def evaluate_clf(self, true, predicted):\n",
    "        '''\n",
    "        This function takes in true values and predicted values\n",
    "        Returns: Accuracy, F1-Score, Precision, Recall, Roc-auc Score\n",
    "        '''\n",
    "        acc = accuracy_score(true, predicted) # Calculate Accuracy\n",
    "        f1 = f1_score(true, predicted) # Calculate F1-score\n",
    "        precision = precision_score(true, predicted) # Calculate Precision\n",
    "        recall = recall_score(true, predicted)  # Calculate Recall\n",
    "        roc_auc = roc_auc_score(true, predicted) # Calculate Roc\n",
    "        return acc, f1 , precision, recall, roc_auc\n",
    "\n",
    "    def log_into_mlflow(self):\n",
    "        \"\"\"\n",
    "        Log evaluation metrics into MLflow.\n",
    "\n",
    "        \"\"\"\n",
    "        test_data = pd.read_csv(self.config.test_data_path)\n",
    "        model = joblib.load(self.config.model_path)\n",
    "\n",
    "        X_test = test_data.iloc[:, :-1]\n",
    "        y_test = test_data.iloc[:, -1]\n",
    "\n",
    "        mlflow.set_tracking_uri(self.config.mlflow_uri)\n",
    "        tracking_url_type_store = urlparse(mlflow.get_tracking_uri()).scheme\n",
    "\n",
    "        with mlflow.start_run():\n",
    "\n",
    "            predicted_qualities = model.predict(X_test)\n",
    "\n",
    "            (acc, f1, precision, recall, roc_auc) = self.evaluate_clf(y_test, predicted_qualities)\n",
    "            \n",
    "            # Saving metrics as local\n",
    "            scores = {\"acc\": acc, \"f1\": f1, \"precision\": precision, \"recall\": recall, \"roc_auc\": roc_auc}\n",
    "            save_json(path=Path(self.config.metric_file_name), data=scores)\n",
    "\n",
    "            mlflow.log_params(self.config.all_params)\n",
    "\n",
    "            mlflow.log_metric(\"acc\", acc)\n",
    "            mlflow.log_metric(\"f1\", f1)\n",
    "            mlflow.log_metric(\"precision\", precision)\n",
    "            mlflow.log_metric(\"recall\", recall)\n",
    "            mlflow.log_metric(\"roc_auc\", roc_auc)\n",
    "\n",
    "            # Model registry does not work with file store\n",
    "            if tracking_url_type_store != \"file\":\n",
    "\n",
    "                # Register the model\n",
    "                mlflow.sklearn.log_model(model, \"model\", registered_model_name=\"GBMClassifier\")\n",
    "            else:\n",
    "                mlflow.sklearn.log_model(model, \"model\")\n"
   ]
  },
  {
   "cell_type": "code",
   "execution_count": 11,
   "metadata": {},
   "outputs": [
    {
     "name": "stdout",
     "output_type": "stream",
     "text": [
      "[2024-02-28 11:26:53,497: INFO: common: YAML file loaded successfully from: config\\config.yaml]\n",
      "[2024-02-28 11:26:53,499: INFO: common: YAML file loaded successfully from: params.yaml]\n",
      "[2024-02-28 11:26:53,502: INFO: common: YAML file loaded successfully from: schema.yaml]\n",
      "[2024-02-28 11:26:53,503: INFO: common: Created directory at: artifacts]\n",
      "[2024-02-28 11:26:53,505: INFO: common: Created directory at: artifacts/model_evaluation]\n",
      "[2024-02-28 11:26:54,502: INFO: common: JSON file saved at: artifacts\\model_evaluation\\metrics.json]\n"
     ]
    },
    {
     "name": "stderr",
     "output_type": "stream",
     "text": [
      "c:\\Users\\layeg\\anaconda3\\envs\\mlproj\\lib\\site-packages\\_distutils_hack\\__init__.py:33: UserWarning: Setuptools is replacing distutils.\n",
      "  warnings.warn(\"Setuptools is replacing distutils.\")\n",
      "Registered model 'GBMClassifier' already exists. Creating a new version of this model...\n",
      "2024/02/28 11:27:01 INFO mlflow.tracking._model_registry.client: Waiting up to 300 seconds for model version to finish creation.                     Model name: GBMClassifier, version 21\n",
      "Created version '21' of model 'GBMClassifier'.\n"
     ]
    }
   ],
   "source": [
    "try:\n",
    "    # Initialize ConfigurationManager and retrieve model evaluation configuration\n",
    "    config = ConfigurationManager()\n",
    "    model_evaluation_config = config.get_model_evaluation_config()\n",
    "\n",
    "    # Initialize ModelEvaluation with the retrieved configuration\n",
    "    model_evaluation = ModelEvaluation(config=model_evaluation_config)\n",
    "\n",
    "    # Log evaluation metrics into MLflow\n",
    "    model_evaluation.log_into_mlflow()\n",
    "\n",
    "except Exception as e:\n",
    "    # Raise the caught exception\n",
    "    raise e\n"
   ]
  },
  {
   "cell_type": "code",
   "execution_count": null,
   "metadata": {},
   "outputs": [],
   "source": []
  },
  {
   "cell_type": "code",
   "execution_count": null,
   "metadata": {},
   "outputs": [],
   "source": []
  }
 ],
 "metadata": {
  "kernelspec": {
   "display_name": "mlproj",
   "language": "python",
   "name": "python3"
  },
  "language_info": {
   "codemirror_mode": {
    "name": "ipython",
    "version": 3
   },
   "file_extension": ".py",
   "mimetype": "text/x-python",
   "name": "python",
   "nbconvert_exporter": "python",
   "pygments_lexer": "ipython3",
   "version": "3.8.18"
  },
  "orig_nbformat": 4
 },
 "nbformat": 4,
 "nbformat_minor": 2
}
